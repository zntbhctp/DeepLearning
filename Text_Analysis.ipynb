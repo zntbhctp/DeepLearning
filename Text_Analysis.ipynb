{
  "nbformat": 4,
  "nbformat_minor": 0,
  "metadata": {
    "colab": {
      "provenance": [],
      "include_colab_link": true
    },
    "kernelspec": {
      "name": "python3",
      "display_name": "Python 3"
    },
    "language_info": {
      "name": "python"
    }
  },
  "cells": [
    {
      "cell_type": "markdown",
      "metadata": {
        "id": "view-in-github",
        "colab_type": "text"
      },
      "source": [
        "<a href=\"https://colab.research.google.com/github/zntbhctp/DeepLearning/blob/main/Text_Analysis.ipynb\" target=\"_parent\"><img src=\"https://colab.research.google.com/assets/colab-badge.svg\" alt=\"Open In Colab\"/></a>"
      ]
    },
    {
      "cell_type": "code",
      "execution_count": null,
      "metadata": {
        "id": "ruaGBh55MfG6"
      },
      "outputs": [],
      "source": [
        "import numpy as np\n",
        "import pandas as pd\n",
        "import matplotlib.pyplot as plt\n",
        "\n",
        "import tensorflow as tf\n",
        "from tensorflow import keras\n",
        "from tensorflow.keras import layers"
      ]
    },
    {
      "cell_type": "code",
      "source": [
        "dataset = [\n",
        "    \"The cat sat on the mat\",\n",
        "    \"Dad sat on the cat\",\n",
        "    \"Cat is mad\"\n",
        "]\n",
        "\n",
        "text_vectorization = layers.TextVectorization(\n",
        "    output_mode = \"int\"\n",
        ")\n",
        "\n"
      ],
      "metadata": {
        "id": "Dl2idzhFM9u_"
      },
      "execution_count": null,
      "outputs": []
    },
    {
      "cell_type": "code",
      "source": [
        "text_vectorization.adapt(dataset)\n",
        "vocabulary = text_vectorization.get_vocabulary()\n",
        "vocabulary"
      ],
      "metadata": {
        "colab": {
          "base_uri": "https://localhost:8080/"
        },
        "id": "kvXqxF4ZgNBF",
        "outputId": "f3bba36d-2917-44ea-a339-54c6b7ad5b55"
      },
      "execution_count": null,
      "outputs": [
        {
          "output_type": "execute_result",
          "data": {
            "text/plain": [
              "['', '[UNK]', 'the', 'cat', 'sat', 'on', 'mat', 'mad', 'is', 'dad']"
            ]
          },
          "metadata": {},
          "execution_count": 66
        }
      ]
    },
    {
      "cell_type": "code",
      "source": [
        "text_vectorization.adapt(dataset)\n",
        "vocabulary = text_vectorization.get_vocabulary()\n",
        "\n",
        "test_sentence = \"Cat is on the floor\"\n",
        "\n",
        "encoded_sentence = text_vectorization(test_sentence).numpy()\n",
        "\n",
        "decoded_sentence = \" \".join(vocabulary[i] for i in encoded_sentence)\n",
        "decoded_sentence"
      ],
      "metadata": {
        "colab": {
          "base_uri": "https://localhost:8080/",
          "height": 35
        },
        "id": "XTjVLPnBNcxo",
        "outputId": "c686e235-5652-4466-a7fa-4fc06bb377ba"
      },
      "execution_count": null,
      "outputs": [
        {
          "output_type": "execute_result",
          "data": {
            "text/plain": [
              "'cat is on the [UNK]'"
            ],
            "application/vnd.google.colaboratory.intrinsic+json": {
              "type": "string"
            }
          },
          "metadata": {},
          "execution_count": 10
        }
      ]
    },
    {
      "cell_type": "code",
      "source": [
        "!curl -O https://ai.stanford.edu/~amaas/data/sentiment/aclImdb_v1.tar.gz"
      ],
      "metadata": {
        "colab": {
          "base_uri": "https://localhost:8080/"
        },
        "id": "z95MnI6HPZes",
        "outputId": "3d07cf5a-5955-40c0-a626-49e8a431e884"
      },
      "execution_count": null,
      "outputs": [
        {
          "output_type": "stream",
          "name": "stdout",
          "text": [
            "  % Total    % Received % Xferd  Average Speed   Time    Time     Time  Current\n",
            "                                 Dload  Upload   Total   Spent    Left  Speed\n",
            "100 80.2M  100 80.2M    0     0  9464k      0  0:00:08  0:00:08 --:--:-- 13.0M\n"
          ]
        }
      ]
    },
    {
      "cell_type": "code",
      "source": [
        "!tar -xf aclImdb_v1.tar.gz"
      ],
      "metadata": {
        "id": "nncG3ev9P6aD"
      },
      "execution_count": null,
      "outputs": []
    },
    {
      "cell_type": "code",
      "source": [
        "!rm -r /content/aclImdb/train/unsup"
      ],
      "metadata": {
        "id": "YyFzYg-cQM06"
      },
      "execution_count": null,
      "outputs": []
    },
    {
      "cell_type": "code",
      "source": [
        "!cat /content/aclImdb/train/pos/10000_8.txt"
      ],
      "metadata": {
        "colab": {
          "base_uri": "https://localhost:8080/"
        },
        "id": "GPMr5qanQdUB",
        "outputId": "86500af9-a7c0-423a-c6e3-23f44d8bb66f"
      },
      "execution_count": null,
      "outputs": [
        {
          "output_type": "stream",
          "name": "stdout",
          "text": [
            "Homelessness (or Houselessness as George Carlin stated) has been an issue for years but never a plan to help those on the street that were once considered human who did everything from going to school, work, or vote for the matter. Most people think of the homeless as just a lost cause while worrying about things such as racism, the war on Iraq, pressuring kids to succeed, technology, the elections, inflation, or worrying if they'll be next to end up on the streets.<br /><br />But what if you were given a bet to live on the streets for a month without the luxuries you once had from a home, the entertainment sets, a bathroom, pictures on the wall, a computer, and everything you once treasure to see what it's like to be homeless? That is Goddard Bolt's lesson.<br /><br />Mel Brooks (who directs) who stars as Bolt plays a rich man who has everything in the world until deciding to make a bet with a sissy rival (Jeffery Tambor) to see if he can live in the streets for thirty days without the luxuries; if Bolt succeeds, he can do what he wants with a future project of making more buildings. The bet's on where Bolt is thrown on the street with a bracelet on his leg to monitor his every move where he can't step off the sidewalk. He's given the nickname Pepto by a vagrant after it's written on his forehead where Bolt meets other characters including a woman by the name of Molly (Lesley Ann Warren) an ex-dancer who got divorce before losing her home, and her pals Sailor (Howard Morris) and Fumes (Teddy Wilson) who are already used to the streets. They're survivors. Bolt isn't. He's not used to reaching mutual agreements like he once did when being rich where it's fight or flight, kill or be killed.<br /><br />While the love connection between Molly and Bolt wasn't necessary to plot, I found \"Life Stinks\" to be one of Mel Brooks' observant films where prior to being a comedy, it shows a tender side compared to his slapstick work such as Blazing Saddles, Young Frankenstein, or Spaceballs for the matter, to show what it's like having something valuable before losing it the next day or on the other hand making a stupid bet like all rich people do when they don't know what to do with their money. Maybe they should give it to the homeless instead of using it like Monopoly money.<br /><br />Or maybe this film will inspire you to help others."
          ]
        }
      ]
    },
    {
      "cell_type": "code",
      "source": [
        "import os, pathlib, shutil, random\n",
        "\n",
        "base_dir = pathlib.Path(\"aclImdb\")\n",
        "val_dir = base_dir / \"val\"\n",
        "train_dir = base_dir / \"train\"\n",
        "\n",
        "for category in (\"neg\", \"pos\"):\n",
        "    os.makedirs(val_dir / category, exist_ok= True)\n",
        "    files = os.listdir(train_dir / category)\n",
        "    random.Random(1).shuffle(files)\n",
        "    num_val_samples = int(0.2* len(files))\n",
        "    val_files = files[:num_val_samples]\n",
        "    for fname in val_files:\n",
        "        shutil.move(train_dir / category / fname, \n",
        "                    val_dir / category / fname)\n"
      ],
      "metadata": {
        "id": "33LYKhWkQzWM"
      },
      "execution_count": null,
      "outputs": []
    },
    {
      "cell_type": "code",
      "source": [
        "files = os.listdir(val_dir / \"pos\")\n",
        "len(files)"
      ],
      "metadata": {
        "colab": {
          "base_uri": "https://localhost:8080/"
        },
        "id": "yVP4oCAdRapX",
        "outputId": "1e17cfb6-6229-4842-eda2-32cc2274a17e"
      },
      "execution_count": null,
      "outputs": [
        {
          "output_type": "execute_result",
          "data": {
            "text/plain": [
              "2500"
            ]
          },
          "metadata": {},
          "execution_count": 48
        }
      ]
    },
    {
      "cell_type": "code",
      "source": [
        "from tensorflow.keras.utils import text_dataset_from_directory\n",
        "\n",
        "batch_size = 32\n",
        "\n",
        "train_ds = text_dataset_from_directory(\n",
        "    \"/content/aclImdb/train\",\n",
        "    batch_size = batch_size\n",
        ")\n",
        "\n",
        "\n",
        "val_ds = text_dataset_from_directory(\n",
        "    \"/content/aclImdb/val\",\n",
        "    batch_size = batch_size\n",
        ")\n",
        "\n",
        "test_ds = text_dataset_from_directory(\n",
        "    \"/content/aclImdb/test\",\n",
        "    batch_size = batch_size\n",
        ")"
      ],
      "metadata": {
        "colab": {
          "base_uri": "https://localhost:8080/"
        },
        "id": "MKNsGo0dapO7",
        "outputId": "16ebce13-48b7-4121-e276-bb4f3f8a0b55"
      },
      "execution_count": null,
      "outputs": [
        {
          "output_type": "stream",
          "name": "stdout",
          "text": [
            "Found 20000 files belonging to 2 classes.\n",
            "Found 5000 files belonging to 2 classes.\n",
            "Found 25000 files belonging to 2 classes.\n"
          ]
        }
      ]
    },
    {
      "cell_type": "code",
      "source": [
        "for inputs, targets in train_ds:\n",
        "    print(inputs.shape)\n",
        "    print(targets.shape)\n",
        "    print(inputs[0])\n",
        "    print(targets[0])\n",
        "    break"
      ],
      "metadata": {
        "colab": {
          "base_uri": "https://localhost:8080/"
        },
        "id": "IfP9GweObQfU",
        "outputId": "7884382f-12a0-4138-8833-95f2f4cfa131"
      },
      "execution_count": null,
      "outputs": [
        {
          "output_type": "stream",
          "name": "stdout",
          "text": [
            "(32,)\n",
            "(32,)\n",
            "tf.Tensor(b\"Having not seen the previous two in the trilogy of Bourne movies, I was a little reluctant to watch The Bourne Ultimatum.<br /><br />However it was a very thrilling experience and I didn't have the problem of not understanding what was happening due to not seeing the first two films. Each part of the story was easy to understand and I fell in love with The Bourne Ultimatum before it had reached the interval! I don't think I have ever watched such an exquisitely made, and gripping film, especially an action film. Since I usually shy away from action and thriller type movies, this was such great news to me. Ultimatum is one of the most enthralling films, it grabs your attention from the first second till the last minute before the credits roll.<br /><br />Matt Damon was simply fantastic as his role as Jason Bourne. I've heard a lot about his great performances in the Bourne 1+2, and now, this fabulous actor has one more to add to his list. I look forward to seeing more of his movies in the future.<br /><br />The stunts were handled with style - each one was done brilliantly and I was just shocked by the impressiveness of this movie. Well done.\", shape=(), dtype=string)\n",
            "tf.Tensor(1, shape=(), dtype=int32)\n"
          ]
        }
      ]
    },
    {
      "cell_type": "code",
      "source": [
        "text_vectorization = layers.TextVectorization(\n",
        "    max_tokens = 20000,\n",
        "    output_mode = \"multi_hot\"\n",
        ")\n",
        "\n",
        "text_only_train_ds = train_ds.map(lambda x , y : x)\n",
        "text_vectorization.adapt(text_only_train_ds)\n",
        "\n",
        "binary_1gram_train_ds = train_ds.map(lambda x,y : (text_vectorization(x), y))\n",
        "binary_1gram_val_ds = val_ds.map(lambda x,y : (text_vectorization(x), y))\n",
        "binary_1gram_test_ds = test_ds.map(lambda x,y : (text_vectorization(x), y))"
      ],
      "metadata": {
        "colab": {
          "base_uri": "https://localhost:8080/"
        },
        "id": "RxdfWD70b_83",
        "outputId": "2eb655e5-4912-41c6-da1e-f1046ba1ca9c"
      },
      "execution_count": null,
      "outputs": [
        {
          "output_type": "stream",
          "name": "stderr",
          "text": [
            "WARNING:tensorflow:5 out of the last 629 calls to <function PreprocessingLayer.make_adapt_function.<locals>.adapt_step at 0x7fa4e37a2dc0> triggered tf.function retracing. Tracing is expensive and the excessive number of tracings could be due to (1) creating @tf.function repeatedly in a loop, (2) passing tensors with different shapes, (3) passing Python objects instead of tensors. For (1), please define your @tf.function outside of the loop. For (2), @tf.function has reduce_retracing=True option that can avoid unnecessary retracing. For (3), please refer to https://www.tensorflow.org/guide/function#controlling_retracing and https://www.tensorflow.org/api_docs/python/tf/function for  more details.\n"
          ]
        }
      ]
    },
    {
      "cell_type": "code",
      "source": [
        "for inputs, targets in binary_1gram_train_ds:\n",
        "    print(inputs.shape)\n",
        "    print(targets.shape)\n",
        "    print(inputs[0])\n",
        "    print(targets[0])\n",
        "    break"
      ],
      "metadata": {
        "colab": {
          "base_uri": "https://localhost:8080/"
        },
        "id": "sj0muAj_iX1d",
        "outputId": "24abf605-3b51-4d64-adf0-b7050a5779d9"
      },
      "execution_count": null,
      "outputs": [
        {
          "output_type": "stream",
          "name": "stdout",
          "text": [
            "(32, 20000)\n",
            "(32,)\n",
            "tf.Tensor([1. 1. 1. ... 0. 0. 0.], shape=(20000,), dtype=float32)\n",
            "tf.Tensor(1, shape=(), dtype=int32)\n"
          ]
        }
      ]
    },
    {
      "cell_type": "code",
      "source": [
        "def get_model(max_tokens = 20000, hidden_dim = 16):\n",
        "    inputs = keras.Input(shape = (max_tokens, ))\n",
        "    x = layers.Dense(hidden_dim, activation = \"relu\")(inputs)\n",
        "    x = layers.Dropout(0.5)(x)\n",
        "    outputs = layers.Dense(1, activation = \"sigmoid\")(x)\n",
        "    mdl = keras.Model(inputs, outputs)\n",
        "    mdl.compile(optimizer = \"adam\", loss = \"binary_crossentropy\", metrics = [\"accuracy\"])\n",
        "    return mdl"
      ],
      "metadata": {
        "id": "GYOUhPAtjR-Y"
      },
      "execution_count": null,
      "outputs": []
    },
    {
      "cell_type": "code",
      "source": [
        "mdl = get_model()\n",
        "callbacks = keras.callbacks.ModelCheckpoint(\"binary_1gram.keras\", save_best_only=True)\n",
        "mdl.fit(binary_1gram_train_ds, validation_data=binary_1gram_val_ds, epochs = 10, callbacks = callbacks)\n",
        "\n",
        "mdl = keras.models.load_model(\"binary_1gram.keras\")\n",
        "mdl.evaluate(binary_1gram_test_ds)"
      ],
      "metadata": {
        "colab": {
          "base_uri": "https://localhost:8080/"
        },
        "id": "2KpqtlcTkQ6e",
        "outputId": "0b3026d3-f0b1-4016-b39e-2e9441a7087f"
      },
      "execution_count": null,
      "outputs": [
        {
          "output_type": "stream",
          "name": "stdout",
          "text": [
            "Epoch 1/10\n",
            "625/625 [==============================] - 8s 11ms/step - loss: 0.3851 - accuracy: 0.8390 - val_loss: 0.2740 - val_accuracy: 0.8880\n",
            "Epoch 2/10\n",
            "625/625 [==============================] - 7s 11ms/step - loss: 0.2180 - accuracy: 0.9194 - val_loss: 0.2716 - val_accuracy: 0.8872\n",
            "Epoch 3/10\n",
            "625/625 [==============================] - 8s 13ms/step - loss: 0.1549 - accuracy: 0.9434 - val_loss: 0.2879 - val_accuracy: 0.8944\n",
            "Epoch 4/10\n",
            "625/625 [==============================] - 8s 12ms/step - loss: 0.1195 - accuracy: 0.9596 - val_loss: 0.3114 - val_accuracy: 0.8894\n",
            "Epoch 5/10\n",
            "625/625 [==============================] - 8s 13ms/step - loss: 0.0868 - accuracy: 0.9707 - val_loss: 0.3441 - val_accuracy: 0.8872\n",
            "Epoch 6/10\n",
            "625/625 [==============================] - 7s 10ms/step - loss: 0.0753 - accuracy: 0.9737 - val_loss: 0.3852 - val_accuracy: 0.8856\n",
            "Epoch 7/10\n",
            "625/625 [==============================] - 7s 11ms/step - loss: 0.0618 - accuracy: 0.9776 - val_loss: 0.4309 - val_accuracy: 0.8848\n",
            "Epoch 8/10\n",
            "625/625 [==============================] - 7s 11ms/step - loss: 0.0548 - accuracy: 0.9809 - val_loss: 0.4657 - val_accuracy: 0.8848\n",
            "Epoch 9/10\n",
            "625/625 [==============================] - 8s 13ms/step - loss: 0.0454 - accuracy: 0.9829 - val_loss: 0.4995 - val_accuracy: 0.8822\n",
            "Epoch 10/10\n",
            "625/625 [==============================] - 7s 11ms/step - loss: 0.0426 - accuracy: 0.9844 - val_loss: 0.5238 - val_accuracy: 0.8848\n",
            "782/782 [==============================] - 4s 5ms/step - loss: 0.2887 - accuracy: 0.8789\n"
          ]
        },
        {
          "output_type": "execute_result",
          "data": {
            "text/plain": [
              "[0.2886897027492523, 0.8788800239562988]"
            ]
          },
          "metadata": {},
          "execution_count": 73
        }
      ]
    },
    {
      "cell_type": "code",
      "source": [
        "text_vectorization = layers.TextVectorization(\n",
        "    max_tokens = 20000,\n",
        "    output_mode = \"multi_hot\",\n",
        "    ngrams = 2\n",
        ")\n",
        "\n",
        "text_only_train_ds = train_ds.map(lambda x , y : x)\n",
        "text_vectorization.adapt(text_only_train_ds)\n",
        "\n",
        "binary_2gram_train_ds = train_ds.map(lambda x,y : (text_vectorization(x), y))\n",
        "binary_2gram_val_ds = val_ds.map(lambda x,y : (text_vectorization(x), y))\n",
        "binary_2gram_test_ds = test_ds.map(lambda x,y : (text_vectorization(x), y))\n",
        "\n",
        "mdl = get_model()\n",
        "callbacks = keras.callbacks.ModelCheckpoint(\"binary_2gram.keras\", save_best_only=True)\n",
        "mdl.fit(binary_2gram_train_ds, validation_data=binary_2gram_val_ds, epochs = 10, callbacks = callbacks)\n",
        "\n",
        "mdl = keras.models.load_model(\"binary_2gram.keras\")\n",
        "mdl.evaluate(binary_2gram_test_ds)"
      ],
      "metadata": {
        "colab": {
          "base_uri": "https://localhost:8080/"
        },
        "id": "ViWdKyIyl3ET",
        "outputId": "587eeced-54c8-4d37-d0be-4da2b622cb89"
      },
      "execution_count": null,
      "outputs": [
        {
          "output_type": "stream",
          "name": "stdout",
          "text": [
            "Epoch 1/10\n",
            "625/625 [==============================] - 8s 12ms/step - loss: 0.3837 - accuracy: 0.8372 - val_loss: 0.2573 - val_accuracy: 0.8984\n",
            "Epoch 2/10\n",
            "625/625 [==============================] - 8s 13ms/step - loss: 0.2090 - accuracy: 0.9222 - val_loss: 0.2526 - val_accuracy: 0.8964\n",
            "Epoch 3/10\n",
            "625/625 [==============================] - 7s 11ms/step - loss: 0.1402 - accuracy: 0.9475 - val_loss: 0.2717 - val_accuracy: 0.8950\n",
            "Epoch 4/10\n",
            "625/625 [==============================] - 8s 13ms/step - loss: 0.1085 - accuracy: 0.9586 - val_loss: 0.3098 - val_accuracy: 0.8864\n",
            "Epoch 5/10\n",
            "625/625 [==============================] - 9s 14ms/step - loss: 0.0800 - accuracy: 0.9708 - val_loss: 0.3132 - val_accuracy: 0.8940\n",
            "Epoch 6/10\n",
            "625/625 [==============================] - 7s 11ms/step - loss: 0.0674 - accuracy: 0.9729 - val_loss: 0.3614 - val_accuracy: 0.8876\n",
            "Epoch 7/10\n",
            "625/625 [==============================] - 9s 14ms/step - loss: 0.0574 - accuracy: 0.9771 - val_loss: 0.3899 - val_accuracy: 0.8918\n",
            "Epoch 8/10\n",
            "625/625 [==============================] - 7s 12ms/step - loss: 0.0497 - accuracy: 0.9786 - val_loss: 0.3994 - val_accuracy: 0.8912\n",
            "Epoch 9/10\n",
            "625/625 [==============================] - 8s 12ms/step - loss: 0.0468 - accuracy: 0.9809 - val_loss: 0.4476 - val_accuracy: 0.8944\n",
            "Epoch 10/10\n",
            "625/625 [==============================] - 8s 13ms/step - loss: 0.0453 - accuracy: 0.9785 - val_loss: 0.4707 - val_accuracy: 0.8888\n",
            "782/782 [==============================] - 5s 6ms/step - loss: 0.2584 - accuracy: 0.8949\n"
          ]
        },
        {
          "output_type": "execute_result",
          "data": {
            "text/plain": [
              "[0.2583639621734619, 0.8949199914932251]"
            ]
          },
          "metadata": {},
          "execution_count": 74
        }
      ]
    }
  ]
}