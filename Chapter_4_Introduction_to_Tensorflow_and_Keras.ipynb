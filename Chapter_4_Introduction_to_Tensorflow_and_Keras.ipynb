{
  "nbformat": 4,
  "nbformat_minor": 0,
  "metadata": {
    "colab": {
      "provenance": [],
      "include_colab_link": true
    },
    "kernelspec": {
      "name": "python3",
      "display_name": "Python 3"
    },
    "language_info": {
      "name": "python"
    }
  },
  "cells": [
    {
      "cell_type": "markdown",
      "metadata": {
        "id": "view-in-github",
        "colab_type": "text"
      },
      "source": [
        "<a href=\"https://colab.research.google.com/github/zntbhctp/KalpHastaliklarinaYakalanmaRiskiTahminProjesi/blob/main/Chapter_4_Introduction_to_Tensorflow_and_Keras.ipynb\" target=\"_parent\"><img src=\"https://colab.research.google.com/assets/colab-badge.svg\" alt=\"Open In Colab\"/></a>"
      ]
    },
    {
      "cell_type": "markdown",
      "source": [
        "## The Sequential model"
      ],
      "metadata": {
        "id": "TU7exV0jgxgR"
      }
    },
    {
      "cell_type": "code",
      "source": [
        "import numpy as np\n",
        "import pandas as pd\n",
        "import matplotlib.pyplot as plt\n",
        "\n",
        "import tensorflow as tf\n",
        "from tensorflow import keras\n",
        "from tensorflow.keras import layers"
      ],
      "metadata": {
        "id": "OuAOFa7Yg466"
      },
      "execution_count": null,
      "outputs": []
    },
    {
      "cell_type": "markdown",
      "source": [
        "### First Alternative"
      ],
      "metadata": {
        "id": "PxjCWPRBhBg0"
      }
    },
    {
      "cell_type": "code",
      "execution_count": null,
      "metadata": {
        "id": "6QARBFHLgqSw"
      },
      "outputs": [],
      "source": [
        "model = keras.Sequential([\n",
        "layers.Dense(64, activation=\"relu\"),\n",
        "layers.Dense(10, activation=\"softmax\")\n",
        "])"
      ]
    },
    {
      "cell_type": "markdown",
      "source": [
        "### Second Alternative\n"
      ],
      "metadata": {
        "id": "GbBJsjnohDoe"
      }
    },
    {
      "cell_type": "code",
      "source": [
        "model = keras.Sequential()\n",
        "model.add(layers.Dense(64, activation=\"relu\", input_shape = (10,)))\n",
        "model.add(layers.Dense(10, activation=\"softmax\"))\n",
        "\n",
        "model.summary()"
      ],
      "metadata": {
        "id": "W5zhHmQhhBAr",
        "colab": {
          "base_uri": "https://localhost:8080/"
        },
        "outputId": "f9db70de-e22e-470c-bf9c-54819aac9eb6"
      },
      "execution_count": null,
      "outputs": [
        {
          "output_type": "stream",
          "name": "stdout",
          "text": [
            "Model: \"sequential_10\"\n",
            "_________________________________________________________________\n",
            " Layer (type)                Output Shape              Param #   \n",
            "=================================================================\n",
            " dense_21 (Dense)            (None, 64)                704       \n",
            "                                                                 \n",
            " dense_22 (Dense)            (None, 10)                650       \n",
            "                                                                 \n",
            "=================================================================\n",
            "Total params: 1,354\n",
            "Trainable params: 1,354\n",
            "Non-trainable params: 0\n",
            "_________________________________________________________________\n"
          ]
        }
      ]
    },
    {
      "cell_type": "markdown",
      "source": [
        "Use `build` to initialize your network, You can also give names to your layers."
      ],
      "metadata": {
        "id": "3rOiO1A8lyRL"
      }
    },
    {
      "cell_type": "code",
      "source": [
        "model = keras.Sequential(name=\"my_example_model\")\n",
        "model.add(layers.Dense(64, activation=\"relu\", name=\"my_first_layer\"))\n",
        "model.add(layers.Dense(10, activation=\"softmax\", name=\"my_last_layer\"))\n",
        "model.build((None, 3))\n",
        "model.summary()"
      ],
      "metadata": {
        "id": "5bWllCKfkPOs",
        "colab": {
          "base_uri": "https://localhost:8080/"
        },
        "outputId": "127e4cc3-1004-4f4f-b67f-791828787026"
      },
      "execution_count": null,
      "outputs": [
        {
          "output_type": "stream",
          "name": "stdout",
          "text": [
            "Model: \"my_example_model\"\n",
            "_________________________________________________________________\n",
            " Layer (type)                Output Shape              Param #   \n",
            "=================================================================\n",
            " my_first_layer (Dense)      (None, 64)                256       \n",
            "                                                                 \n",
            " my_last_layer (Dense)       (None, 10)                650       \n",
            "                                                                 \n",
            "=================================================================\n",
            "Total params: 906\n",
            "Trainable params: 906\n",
            "Non-trainable params: 0\n",
            "_________________________________________________________________\n"
          ]
        }
      ]
    },
    {
      "cell_type": "markdown",
      "source": [
        "You can also use `INPUT class`"
      ],
      "metadata": {
        "id": "ZZiUwzMDl7pK"
      }
    },
    {
      "cell_type": "code",
      "source": [
        "model = keras.Sequential()\n",
        "model.add(keras.Input(shape=(3,)))\n",
        "model.add(layers.Dense(64, activation=\"relu\"))\n",
        "model.summary()"
      ],
      "metadata": {
        "id": "rO1UpeUCkcxk",
        "colab": {
          "base_uri": "https://localhost:8080/"
        },
        "outputId": "db7c3193-1f44-4e1e-b043-d8bcfa5e6ebb"
      },
      "execution_count": null,
      "outputs": [
        {
          "output_type": "stream",
          "name": "stdout",
          "text": [
            "Model: \"sequential_12\"\n",
            "_________________________________________________________________\n",
            " Layer (type)                Output Shape              Param #   \n",
            "=================================================================\n",
            " dense_24 (Dense)            (None, 64)                256       \n",
            "                                                                 \n",
            "=================================================================\n",
            "Total params: 256\n",
            "Trainable params: 256\n",
            "Non-trainable params: 0\n",
            "_________________________________________________________________\n"
          ]
        }
      ]
    },
    {
      "cell_type": "markdown",
      "source": [
        "## Functional API\n",
        "\n"
      ],
      "metadata": {
        "id": "_I8o6sjBlLPZ"
      }
    },
    {
      "cell_type": "code",
      "source": [
        "inputs = keras.Input(shape=(3,), name=\"my_input\")\n",
        "features = layers.Dense(64, activation=\"relu\")(inputs)\n",
        "outputs = layers.Dense(10, activation=\"softmax\")(features)\n",
        "model = keras.Model(inputs=inputs, outputs=outputs)"
      ],
      "metadata": {
        "id": "M-sRIExQlSLj"
      },
      "execution_count": null,
      "outputs": []
    },
    {
      "cell_type": "code",
      "source": [
        "from sklearn.datasets import load_diabetes\n",
        "from sklearn.model_selection import train_test_split\n",
        "\n",
        "\n",
        "data = load_diabetes()\n",
        "X = data[\"data\"]\n",
        "y = data[\"target\"]\n",
        "\n",
        "X_train, X_test, y_train, y_test = train_test_split(X, y, test_size = 0.2, random_state = 42)\n",
        "\n",
        "mu = X_train.mean(axis = 0)\n",
        "sigma = X_train.std(axis = 0)\n",
        "\n",
        "X_train = (X_train - mu) / sigma\n",
        "X_test = (X_test - mu) / sigma\n",
        "X_train.shape\n",
        "\n"
      ],
      "metadata": {
        "colab": {
          "base_uri": "https://localhost:8080/"
        },
        "id": "31DZ_zWq8Jey",
        "outputId": "1c1283d3-4484-4207-db1b-706fee9e61db"
      },
      "execution_count": null,
      "outputs": [
        {
          "output_type": "execute_result",
          "data": {
            "text/plain": [
              "(353, 10)"
            ]
          },
          "metadata": {},
          "execution_count": 21
        }
      ]
    },
    {
      "cell_type": "code",
      "source": [
        "mdl =  keras.Sequential()\n",
        "\n",
        "mdl.add(layers.Dense(128, activation = \"relu\", input_shape = (X_train.shape[1],) ))\n",
        "mdl.add(layers.Dense(64, activation = \"relu\"))\n",
        "mdl.add(layers.Dense(1, activation = \"linear\"))\n",
        "\n",
        "mdl.compile(optimizer=\"adam\", loss = \"mse\", metrics = [\"mape\"])\n",
        "\n",
        "mdl.fit(X_train, y_train, epochs = 100, verbose = 0)\n",
        "mdl.summary()"
      ],
      "metadata": {
        "colab": {
          "base_uri": "https://localhost:8080/"
        },
        "id": "5htpwHT-8Ns2",
        "outputId": "3e0b60fd-81b1-4bd5-8ad6-dd3849fa1f9c"
      },
      "execution_count": null,
      "outputs": [
        {
          "output_type": "stream",
          "name": "stdout",
          "text": [
            "Model: \"sequential_14\"\n",
            "_________________________________________________________________\n",
            " Layer (type)                Output Shape              Param #   \n",
            "=================================================================\n",
            " dense_34 (Dense)            (None, 128)               1408      \n",
            "                                                                 \n",
            " dense_35 (Dense)            (None, 64)                8256      \n",
            "                                                                 \n",
            " dense_36 (Dense)            (None, 1)                 65        \n",
            "                                                                 \n",
            "=================================================================\n",
            "Total params: 9,729\n",
            "Trainable params: 9,729\n",
            "Non-trainable params: 0\n",
            "_________________________________________________________________\n"
          ]
        }
      ]
    },
    {
      "cell_type": "code",
      "source": [
        "inputs = keras.Input(shape = (X_train.shape[1], ))\n",
        "dense1 = layers.Dense(128, activation = \"relu\")(inputs)\n",
        "dense2 = layers.Dense(64, activation = \"relu\")(dense1)\n",
        "outputs = layers.Dense(1, activation = \"linear\")(dense2)\n",
        "\n",
        "mdl = keras.Model(inputs = inputs, outputs = outputs)\n",
        "mdl.summary() "
      ],
      "metadata": {
        "colab": {
          "base_uri": "https://localhost:8080/"
        },
        "id": "vXt7zuST-ScP",
        "outputId": "bc34eb6e-7138-4eec-f8a9-97497712675d"
      },
      "execution_count": null,
      "outputs": [
        {
          "output_type": "stream",
          "name": "stdout",
          "text": [
            "Model: \"model_1\"\n",
            "_________________________________________________________________\n",
            " Layer (type)                Output Shape              Param #   \n",
            "=================================================================\n",
            " input_5 (InputLayer)        [(None, 10)]              0         \n",
            "                                                                 \n",
            " dense_31 (Dense)            (None, 128)               1408      \n",
            "                                                                 \n",
            " dense_32 (Dense)            (None, 64)                8256      \n",
            "                                                                 \n",
            " dense_33 (Dense)            (None, 1)                 65        \n",
            "                                                                 \n",
            "=================================================================\n",
            "Total params: 9,729\n",
            "Trainable params: 9,729\n",
            "Non-trainable params: 0\n",
            "_________________________________________________________________\n"
          ]
        }
      ]
    },
    {
      "cell_type": "markdown",
      "source": [
        "Let’s say you’re building a system to rank customer support tickets by priority and\n",
        "route them to the appropriate department. Your model has three inputs:\n",
        "- The title of the ticket (text input)\n",
        "- The text body of the ticket (text input)\n",
        "- Any tags added by the user (categorical input, assumed here to be one-hot\n",
        "encoded)\n",
        "\n",
        "We can encode the text inputs as arrays of ones and zeros of size vocabulary_size\n",
        "(see chapter 11 for detailed information about text encoding techniques).\n",
        "Your model also has two outputs:\n",
        "- The priority score of the ticket, a scalar between 0 and 1 (sigmoid output)\n",
        "- The department that should handle the ticket (a softmax over the set of departments)"
      ],
      "metadata": {
        "id": "Kvx4rWHelewV"
      }
    },
    {
      "cell_type": "code",
      "source": [
        "vocabulary_size = 10000\n",
        "num_tags = 100\n",
        "num_departments = 4\n",
        "title = keras.Input(shape=(vocabulary_size,), name=\"title\")\n",
        "text_body = keras.Input(shape=(vocabulary_size,), name=\"text_body\")\n",
        "tags = keras.Input(shape=(num_tags,), name=\"tags\")\n",
        "\n",
        "\n",
        "features = layers.Concatenate()([title, text_body, tags])\n",
        "\n",
        "features = layers.Dense(64, activation=\"relu\")(features)\n",
        "\n",
        "priority = layers.Dense(1, activation=\"sigmoid\", name=\"priority\")(features)\n",
        "department = layers.Dense(num_departments, activation=\"softmax\", name=\"department\")(features)\n",
        "\n",
        "\n",
        "model = keras.Model(inputs=[title, text_body, tags], \n",
        "                    outputs=[priority, department])\n",
        "\n",
        "model.summary()"
      ],
      "metadata": {
        "id": "SOmB3-oalpps"
      },
      "execution_count": null,
      "outputs": []
    },
    {
      "cell_type": "code",
      "source": [
        "keras.utils.plot_model(model, show_shapes = True)"
      ],
      "metadata": {
        "colab": {
          "base_uri": "https://localhost:8080/",
          "height": 442
        },
        "id": "xT4-sWDNDzCu",
        "outputId": "fc86f7c2-4508-4384-b848-4fab7b35efd7"
      },
      "execution_count": null,
      "outputs": [
        {
          "output_type": "execute_result",
          "data": {
            "image/png": "[encoded data removed]",
            "text/plain": [
              "<IPython.core.display.Image object>"
            ]
          },
          "metadata": {},
          "execution_count": 29
        }
      ]
    },
    {
      "cell_type": "code",
      "source": [
        "input1 = keras.Input(shape =  (100,))\n",
        "input2 = keras.Input(shape =  (50,))\n",
        "\n",
        "concat1 = layers.Concatenate()([input1,input2])\n",
        "dense1 = layers.Dense(64, activation = \"relu\")(concat1)\n",
        "\n",
        "concat2 = layers.Concatenate()([concat1, dense1])\n",
        "\n",
        "outputs = layers.Dense(1, activation = \"sigmoid\")(concat2)\n",
        "\n",
        "mdl = keras.Model([input1, input2], outputs)\n",
        "keras.utils.plot_model(mdl, show_shapes = True)"
      ],
      "metadata": {
        "colab": {
          "base_uri": "https://localhost:8080/",
          "height": 533
        },
        "id": "RFGmf6aaKKo3",
        "outputId": "225bac59-0f6a-4b66-c4a0-28ebdcc70130"
      },
      "execution_count": null,
      "outputs": [
        {
          "output_type": "execute_result",
          "data": {
            "image/png": "[encoded data removed]",
            "text/plain": [
              "<IPython.core.display.Image object>"
            ]
          },
          "metadata": {},
          "execution_count": 34
        }
      ]
    },
    {
      "cell_type": "markdown",
      "source": [
        "### TRAINING A MULTI-INPUT, MULTI-OUTPUT MODEL\n"
      ],
      "metadata": {
        "id": "c_4wYlTKsYsz"
      }
    },
    {
      "cell_type": "code",
      "source": [
        "num_samples = 1280\n",
        "title_data = np.random.randint(0, 2, size=(num_samples, vocabulary_size))\n",
        "text_body_data = np.random.randint(0, 2, size=(num_samples, vocabulary_size))\n",
        "tags_data = np.random.randint(0, 2, size=(num_samples, num_tags))\n",
        "\n",
        "\n",
        "priority_data = np.random.random(size=(num_samples, 1))\n",
        "department_data = np.random.randint(0, 2, size=(num_samples, num_departments))\n",
        "\n",
        "model.compile(optimizer=\"rmsprop\", loss=[\"mean_squared_error\", \"categorical_crossentropy\"], \n",
        "              metrics=[[\"mean_absolute_error\"], [\"accuracy\"]])\n",
        "model.fit([title_data, text_body_data, tags_data], [priority_data, department_data], epochs=1)\n",
        "model.evaluate([title_data, text_body_data, tags_data], [priority_data, department_data])\n",
        "priority_preds, department_preds = model.predict([title_data, text_body_data, tags_data])"
      ],
      "metadata": {
        "id": "rfACOSsfsbu3",
        "colab": {
          "base_uri": "https://localhost:8080/"
        },
        "outputId": "e2421dbf-286f-4aea-ade2-369bd4b1f8ab"
      },
      "execution_count": null,
      "outputs": [
        {
          "output_type": "stream",
          "name": "stdout",
          "text": [
            "40/40 [==============================] - 2s 19ms/step - loss: 35.0205 - priority_loss: 0.3269 - department_loss: 34.6937 - priority_mean_absolute_error: 0.4911 - department_accuracy: 0.2242\n",
            "40/40 [==============================] - 1s 8ms/step - loss: 21.7736 - priority_loss: 0.3296 - department_loss: 21.4439 - priority_mean_absolute_error: 0.4937 - department_accuracy: 0.1414\n",
            "40/40 [==============================] - 0s 8ms/step\n"
          ]
        }
      ]
    },
    {
      "cell_type": "code",
      "source": [
        "model.compile(optimizer=\"rmsprop\", \n",
        "              loss={\"priority\": \"mean_squared_error\", \"department\": \"categorical_crossentropy\"},\n",
        "              metrics={\"priority\": [\"mean_absolute_error\"], \"department\": [\"accuracy\"]})\n",
        "model.fit({\"title\": title_data, \"text_body\": text_body_data, \"tags\": tags_data},\n",
        "          {\"priority\": priority_data, \"department\": department_data}, epochs=1)\n",
        "model.evaluate({\"title\": title_data, \"text_body\": text_body_data, \"tags\": tags_data}, \n",
        "               {\"priority\": priority_data, \"department\": department_data})\n",
        "priority_preds, department_preds = model.predict({\"title\": title_data, \"text_body\": text_body_data, \"tags\": tags_data})"
      ],
      "metadata": {
        "id": "WpmaQN6KspnE",
        "colab": {
          "base_uri": "https://localhost:8080/"
        },
        "outputId": "06890897-65dc-45be-a7fd-f147b2ff2125"
      },
      "execution_count": null,
      "outputs": [
        {
          "output_type": "stream",
          "name": "stdout",
          "text": [
            "40/40 [==============================] - 2s 19ms/step - loss: 47.8963 - priority_loss: 0.3296 - department_loss: 47.5667 - priority_mean_absolute_error: 0.4937 - department_accuracy: 0.2562\n",
            "40/40 [==============================] - 1s 8ms/step - loss: 76.3627 - priority_loss: 0.3296 - department_loss: 76.0331 - priority_mean_absolute_error: 0.4937 - department_accuracy: 0.1172\n",
            "40/40 [==============================] - 0s 8ms/step\n"
          ]
        }
      ]
    },
    {
      "cell_type": "markdown",
      "source": [
        "Let’s say you want to add another output to the previous model—you want to estimate\n",
        "how long a given issue ticket will take to resolve, a kind of difficulty rating. You\n",
        "could do this via a classification layer over three categories: “quick,” “medium,” and\n",
        "“difficult.” You don’t need to recreate and retrain a model from scratch. You can start\n",
        "from the intermediate features of your previous model, since you have access to them,\n",
        "like this."
      ],
      "metadata": {
        "id": "snI9fBfbtO74"
      }
    },
    {
      "cell_type": "code",
      "source": [
        "model.layers[4].output"
      ],
      "metadata": {
        "colab": {
          "base_uri": "https://localhost:8080/"
        },
        "id": "gYCM-uB9RmoI",
        "outputId": "e3da94b2-9c2c-4223-b8e9-3ce07065cac2"
      },
      "execution_count": null,
      "outputs": [
        {
          "output_type": "execute_result",
          "data": {
            "text/plain": [
              "<KerasTensor: shape=(None, 64) dtype=float32 (created by layer 'dense_39')>"
            ]
          },
          "metadata": {},
          "execution_count": 41
        }
      ]
    },
    {
      "cell_type": "code",
      "source": [
        "features = model.layers[4].output\n",
        "difficulty = layers.Dense(3, activation=\"softmax\", name=\"difficulty\")(features)\n",
        "new_model = keras.Model(\n",
        "    inputs=[title, text_body, tags],\n",
        "    outputs=[priority, department, difficulty])\n",
        "\n",
        "keras.utils.plot_model(new_model)"
      ],
      "metadata": {
        "id": "UMPNyw-UtTzC",
        "colab": {
          "base_uri": "https://localhost:8080/",
          "height": 369
        },
        "outputId": "8c966564-1699-4dc3-d9fa-43ede7094612"
      },
      "execution_count": null,
      "outputs": [
        {
          "output_type": "execute_result",
          "data": {
            "image/png": "[encoded data removed]",
            "text/plain": [
              "<IPython.core.display.Image object>"
            ]
          },
          "metadata": {},
          "execution_count": 42
        }
      ]
    },
    {
      "cell_type": "markdown",
      "source": [
        "## Subclassing the Model class"
      ],
      "metadata": {
        "id": "JL2uT6y4tdMc"
      }
    },
    {
      "cell_type": "code",
      "source": [
        "class CustomerTicketModel(keras.Model):\n",
        "    def __init__(self, num_departments):\n",
        "        super().__init__()\n",
        "        self.concat_layer = layers.Concatenate()\n",
        "        self.mixing_layer = layers.Dense(64, activation=\"relu\")\n",
        "        self.priority_scorer = layers.Dense(1, activation=\"sigmoid\")\n",
        "        self.department_classifier = layers.Dense(num_departments, activation=\"softmax\")\n",
        "    def call(self, inputs):\n",
        "        title = inputs[\"title\"]\n",
        "        text_body = inputs[\"text_body\"]\n",
        "        tags = inputs[\"tags\"]\n",
        "        features = self.concat_layer([title, text_body, tags])\n",
        "        features = self.mixing_layer(features)\n",
        "        priority = self.priority_scorer(features)\n",
        "        department = self.department_classifier(features)\n",
        "        return priority, department"
      ],
      "metadata": {
        "id": "pNHj9_KStc5L"
      },
      "execution_count": null,
      "outputs": []
    },
    {
      "cell_type": "code",
      "source": [
        "model = CustomerTicketModel(num_departments=4)\n",
        "\n",
        "priority, department = model(\n",
        "    {\"title\": title_data, \"text_body\": text_body_data, \"tags\": tags_data})\n",
        "\n",
        "model.compile(optimizer=\"rmsprop\",\n",
        "              loss=[\"mean_squared_error\", \"categorical_crossentropy\"],\n",
        "              metrics=[[\"mean_absolute_error\"], [\"accuracy\"]])\n",
        "model.fit({\"title\": title_data,\n",
        "           \"text_body\": text_body_data,\n",
        "           \"tags\": tags_data},\n",
        "          [priority_data, department_data],\n",
        "          epochs=1)\n",
        "model.evaluate({\"title\": title_data,\n",
        "                \"text_body\": text_body_data,\n",
        "                \"tags\": tags_data},\n",
        "               [priority_data, department_data])\n",
        "priority_preds, department_preds = model.predict({\"title\": title_data,\n",
        "                                                  \"text_body\": text_body_data,\n",
        "                                                  \"tags\": tags_data})"
      ],
      "metadata": {
        "id": "hbsfFWMYuINC",
        "colab": {
          "base_uri": "https://localhost:8080/"
        },
        "outputId": "1f9d9b29-1d83-4b50-ec59-e235cf62813b"
      },
      "execution_count": null,
      "outputs": [
        {
          "output_type": "stream",
          "name": "stdout",
          "text": [
            "40/40 [==============================] - 2s 20ms/step - loss: 59.9877 - output_1_loss: 0.3365 - output_2_loss: 59.6512 - output_1_mean_absolute_error: 0.5002 - output_2_accuracy: 0.1555\n",
            "40/40 [==============================] - 1s 9ms/step - loss: 31.7882 - output_1_loss: 0.3422 - output_2_loss: 31.4460 - output_1_mean_absolute_error: 0.5063 - output_2_accuracy: 0.0539\n",
            "40/40 [==============================] - 0s 8ms/step\n"
          ]
        }
      ]
    },
    {
      "cell_type": "markdown",
      "source": [
        "## Mixing and matching different components"
      ],
      "metadata": {
        "id": "9y4y1RlMvplm"
      }
    },
    {
      "cell_type": "code",
      "source": [
        "class Classifier(keras.Model):\n",
        "\n",
        "    def __init__(self, num_classes=2):\n",
        "        super().__init__()\n",
        "        if num_classes == 2:\n",
        "            num_units = 1\n",
        "            activation = \"sigmoid\"\n",
        "        else:\n",
        "            num_units = num_classes\n",
        "            activation = \"softmax\"\n",
        "        self.dense = layers.Dense(num_units, activation=activation)\n",
        "\n",
        "    def call(self, inputs):\n",
        "        return self.dense(inputs)\n",
        "\n",
        "inputs = keras.Input(shape=(3,))\n",
        "features = layers.Dense(64, activation=\"relu\")(inputs)\n",
        "outputs = Classifier(num_classes=10)(features)\n",
        "model = keras.Model(inputs=inputs, outputs=outputs)"
      ],
      "metadata": {
        "id": "B-HqWBj8vrHL"
      },
      "execution_count": null,
      "outputs": []
    },
    {
      "cell_type": "code",
      "source": [
        "\n",
        "loss_fn = keras.losses.SparseCategoricalCrossentropy()\n",
        "optimizer = keras.optimizers.RMSprop()\n",
        "metrics = [keras.metrics.SparseCategoricalAccuracy()]\n",
        "loss_tracking_metric = keras.metrics.Mean()\n",
        "\n",
        "def train_step(inputs, targets):\n",
        "    with tf.GradientTape() as tape:\n",
        "        predictions = model(inputs, training=True)\n",
        "        loss = loss_fn(targets, predictions)\n",
        "    gradients = tape.gradient(loss, model.trainable_weights)\n",
        "    optimizer.apply_gradients(zip(gradients, model.trainable_weights))"
      ],
      "metadata": {
        "id": "hUQa7oqBvrA8"
      },
      "execution_count": null,
      "outputs": []
    },
    {
      "cell_type": "code",
      "source": [
        "model"
      ],
      "metadata": {
        "id": "TTl4645PVuNc",
        "outputId": "9eb688fd-a567-4b07-a178-0d2e121b0e6b",
        "colab": {
          "base_uri": "https://localhost:8080/"
        }
      },
      "execution_count": null,
      "outputs": [
        {
          "output_type": "execute_result",
          "data": {
            "text/plain": [
              "<keras.engine.functional.Functional at 0x7ffaae0ceaf0>"
            ]
          },
          "metadata": {},
          "execution_count": 47
        }
      ]
    }
  ]
}