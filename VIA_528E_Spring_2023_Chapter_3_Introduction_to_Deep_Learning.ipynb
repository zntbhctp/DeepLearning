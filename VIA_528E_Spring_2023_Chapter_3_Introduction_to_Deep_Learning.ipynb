{
  "nbformat": 4,
  "nbformat_minor": 0,
  "metadata": {
    "colab": {
      "provenance": [],
      "include_colab_link": true
    },
    "kernelspec": {
      "name": "python3",
      "display_name": "Python 3"
    },
    "language_info": {
      "name": "python"
    }
  },
  "cells": [
    {
      "cell_type": "markdown",
      "metadata": {
        "id": "view-in-github",
        "colab_type": "text"
      },
      "source": [
        "<a href=\"https://colab.research.google.com/github/zntbhctp/KalpHastaliklarinaYakalanmaRiskiTahminProjesi/blob/main/VIA_528E_Spring_2023_Chapter_3_Introduction_to_Deep_Learning.ipynb\" target=\"_parent\"><img src=\"https://colab.research.google.com/assets/colab-badge.svg\" alt=\"Open In Colab\"/></a>"
      ]
    },
    {
      "cell_type": "code",
      "execution_count": null,
      "metadata": {
        "id": "rCb4PsA39E6q"
      },
      "outputs": [],
      "source": [
        "import numpy as np\n",
        "import pandas as pd\n",
        "import matplotlib.pyplot as plt\n",
        "\n",
        "import tensorflow as tf\n",
        "from tensorflow import keras\n",
        "from tensorflow.keras import layers"
      ]
    },
    {
      "cell_type": "code",
      "source": [
        "from sklearn.datasets import load_diabetes\n",
        "from sklearn.model_selection import train_test_split\n",
        "\n",
        "\n",
        "data = load_diabetes()\n",
        "X = data[\"data\"]\n",
        "y = data[\"target\"]\n",
        "\n",
        "X_train, X_test, y_train, y_test = train_test_split(X, y, test_size = 0.2, random_state = 42)\n",
        "\n",
        "mu = X_train.mean(axis = 0)\n",
        "sigma = X_train.std(axis = 0)\n",
        "\n",
        "X_train = (X_train - mu) / sigma\n",
        "X_test = (X_test - mu) / sigma\n",
        "X_train.shape"
      ],
      "metadata": {
        "colab": {
          "base_uri": "https://localhost:8080/"
        },
        "id": "gyt0I0NQ_eS-",
        "outputId": "bf96bc0e-d165-44d0-9a53-2bc1ce19bfd0"
      },
      "execution_count": null,
      "outputs": [
        {
          "output_type": "execute_result",
          "data": {
            "text/plain": [
              "(353, 10)"
            ]
          },
          "metadata": {},
          "execution_count": 8
        }
      ]
    },
    {
      "cell_type": "code",
      "source": [
        "\n",
        "mdl =  keras.Sequential()\n",
        "\n",
        "mdl.add(layers.Dense(128, activation = \"relu\", input_shape = (X_train.shape[1],) ))\n",
        "mdl.add(layers.Dense(64, activation = \"relu\"))\n",
        "mdl.add(layers.Dense(1, activation = \"linear\"))\n",
        "\n",
        "## http://alexlenail.me/NN-SVG/index.html\n",
        "mdl.compile(optimizer=\"adam\", loss = \"mse\", metrics = [\"mape\"])\n",
        "\n",
        "mdl.fit(X_train, y_train, epochs = 100, verbose = 0)"
      ],
      "metadata": {
        "colab": {
          "base_uri": "https://localhost:8080/"
        },
        "id": "W_nBX17eBQwV",
        "outputId": "1b5c49d7-fa24-4f59-b898-445226115d5f"
      },
      "execution_count": null,
      "outputs": [
        {
          "output_type": "execute_result",
          "data": {
            "text/plain": [
              "<keras.callbacks.History at 0x7f164283e1f0>"
            ]
          },
          "metadata": {},
          "execution_count": 18
        }
      ]
    },
    {
      "cell_type": "code",
      "source": [
        "ypred = mdl.predict(X_test)\n",
        "plt.plot(y_test, ypred, \"*\")"
      ],
      "metadata": {
        "colab": {
          "base_uri": "https://localhost:8080/",
          "height": 301
        },
        "id": "DD7zcZ0iHlXW",
        "outputId": "560a7e0f-2c23-46ad-8f94-ef0fb2fd1a5b"
      },
      "execution_count": null,
      "outputs": [
        {
          "output_type": "stream",
          "name": "stdout",
          "text": [
            "3/3 [==============================] - 0s 4ms/step\n"
          ]
        },
        {
          "output_type": "execute_result",
          "data": {
            "text/plain": [
              "[<matplotlib.lines.Line2D at 0x7f16426f2fa0>]"
            ]
          },
          "metadata": {},
          "execution_count": 21
        },
        {
          "output_type": "display_data",
          "data": {
            "text/plain": [
              "<Figure size 432x288 with 1 Axes>"
            ],
            "image/png": "[encoded data removed]"
          },
          "metadata": {
            "needs_background": "light"
          }
        }
      ]
    },
    {
      "cell_type": "code",
      "source": [
        "print(mdl.evaluate(X_train, y_train))\n",
        "print(mdl.evaluate(X_test, y_test))"
      ],
      "metadata": {
        "colab": {
          "base_uri": "https://localhost:8080/"
        },
        "id": "DUWluusEHzeh",
        "outputId": "3cb65813-cdaa-4e84-f4f1-83e099bfa19a"
      },
      "execution_count": null,
      "outputs": [
        {
          "output_type": "stream",
          "name": "stdout",
          "text": [
            "12/12 [==============================] - 0s 2ms/step - loss: 2652.8799 - mape: 34.5182\n",
            "[2652.8798828125, 34.5181999206543]\n",
            "3/3 [==============================] - 0s 4ms/step - loss: 2838.4915 - mape: 36.0433\n",
            "[2838.491455078125, 36.04330062866211]\n"
          ]
        }
      ]
    },
    {
      "cell_type": "code",
      "source": [
        "from sklearn.datasets import load_breast_cancer\n",
        "\n",
        "data = load_breast_cancer()\n",
        "X = data[\"data\"]\n",
        "y = data[\"target\"]\n",
        "\n",
        "X_train, X_test, y_train, y_test = train_test_split(X, y, test_size = 0.2, random_state = 42)\n",
        "\n",
        "mu = X_train.mean(axis = 0)\n",
        "sigma = X_train.std(axis = 0)\n",
        "\n",
        "X_train = (X_train - mu) / sigma\n",
        "X_test = (X_test - mu) / sigma\n",
        "X_train.shape"
      ],
      "metadata": {
        "colab": {
          "base_uri": "https://localhost:8080/"
        },
        "id": "N0ET4E1gOV6B",
        "outputId": "250c2bf0-b50d-4be1-9546-60b315a997ef"
      },
      "execution_count": null,
      "outputs": [
        {
          "output_type": "execute_result",
          "data": {
            "text/plain": [
              "(455, 30)"
            ]
          },
          "metadata": {},
          "execution_count": 23
        }
      ]
    },
    {
      "cell_type": "code",
      "source": [
        "mdl =  keras.Sequential()\n",
        "\n",
        "mdl.add(layers.Dense(128, activation = \"relu\", input_shape = (X_train.shape[1],) ))\n",
        "mdl.add(layers.Dense(64, activation = \"relu\"))\n",
        "mdl.add(layers.Dense(1, activation = \"sigmoid\"))\n",
        "\n",
        "mdl.compile(optimizer=\"adam\", loss = \"binary_crossentropy\", metrics = [\"accuracy\"])\n",
        "\n",
        "mdl.fit(X_train, y_train, epochs = 100, verbose = 0)"
      ],
      "metadata": {
        "colab": {
          "base_uri": "https://localhost:8080/"
        },
        "id": "e23khvE_OqEb",
        "outputId": "ff51563b-8858-49a4-a82d-0d78ba1b4ef4"
      },
      "execution_count": null,
      "outputs": [
        {
          "output_type": "execute_result",
          "data": {
            "text/plain": [
              "<keras.callbacks.History at 0x7f1636a11280>"
            ]
          },
          "metadata": {},
          "execution_count": 24
        }
      ]
    },
    {
      "cell_type": "code",
      "source": [
        "print(mdl.evaluate(X_train, y_train))\n",
        "print(mdl.evaluate(X_test, y_test))"
      ],
      "metadata": {
        "colab": {
          "base_uri": "https://localhost:8080/"
        },
        "id": "cOn8YzUdQxwk",
        "outputId": "e4ec5117-0a36-4d8a-c417-c1e0b733bd2e"
      },
      "execution_count": null,
      "outputs": [
        {
          "output_type": "stream",
          "name": "stdout",
          "text": [
            "15/15 [==============================] - 0s 2ms/step - loss: 2.1226e-04 - accuracy: 1.0000\n",
            "[0.00021225929958745837, 1.0]\n",
            "4/4 [==============================] - 0s 3ms/step - loss: 0.1443 - accuracy: 0.9737\n",
            "[0.14431439340114594, 0.9736841917037964]\n"
          ]
        }
      ]
    },
    {
      "cell_type": "code",
      "source": [
        "ypred = mdl.predict(X_test)\n",
        "ypred_label = (ypred >  0.5).astype(\"int\")\n",
        "ypred_label"
      ],
      "metadata": {
        "id": "L3zRudQtQ3fz"
      },
      "execution_count": null,
      "outputs": []
    },
    {
      "cell_type": "code",
      "source": [
        "from sklearn.datasets import load_iris\n",
        "\n",
        "data = load_iris()\n",
        "X = data[\"data\"]\n",
        "y = data[\"target\"]\n",
        "\n",
        "X_train, X_test, y_train, y_test = train_test_split(X, y, test_size = 0.2, random_state = 42)\n",
        "\n",
        "mu = X_train.mean(axis = 0)\n",
        "sigma = X_train.std(axis = 0)\n",
        "\n",
        "X_train = (X_train - mu) / sigma\n",
        "X_test = (X_test - mu) / sigma\n",
        "X_train.shape"
      ],
      "metadata": {
        "colab": {
          "base_uri": "https://localhost:8080/"
        },
        "id": "mttpSwkISH7v",
        "outputId": "76d50ef2-a157-4a2a-bd83-c5eb0b939491"
      },
      "execution_count": null,
      "outputs": [
        {
          "output_type": "execute_result",
          "data": {
            "text/plain": [
              "(120, 4)"
            ]
          },
          "metadata": {},
          "execution_count": 29
        }
      ]
    },
    {
      "cell_type": "code",
      "source": [
        "mdl =  keras.Sequential()\n",
        "\n",
        "mdl.add(layers.Dense(128, activation = \"relu\", input_shape = (X_train.shape[1],) ))\n",
        "mdl.add(layers.Dense(64, activation = \"relu\"))\n",
        "mdl.add(layers.Dense(3, activation = \"softmax\"))\n",
        "\n",
        "\n",
        "mdl.compile(optimizer=\"adam\", loss = \"sparse_categorical_crossentropy\", metrics = [\"accuracy\"])\n",
        "\n",
        "mdl.fit(X_train, y_train, epochs = 100, verbose = 0)"
      ],
      "metadata": {
        "colab": {
          "base_uri": "https://localhost:8080/"
        },
        "id": "EB-sZ9SPSVV7",
        "outputId": "6f36de2a-e8db-4470-cd61-ffa9740f125a"
      },
      "execution_count": null,
      "outputs": [
        {
          "output_type": "execute_result",
          "data": {
            "text/plain": [
              "<keras.callbacks.History at 0x7f16425d3910>"
            ]
          },
          "metadata": {},
          "execution_count": 33
        }
      ]
    },
    {
      "cell_type": "code",
      "source": [
        "print(mdl.evaluate(X_train, y_train))\n",
        "print(mdl.evaluate(X_test, y_test))"
      ],
      "metadata": {
        "colab": {
          "base_uri": "https://localhost:8080/"
        },
        "id": "cU8Dcs2dVQj7",
        "outputId": "841e3224-a595-4af5-f9c6-882acaff1e31"
      },
      "execution_count": null,
      "outputs": [
        {
          "output_type": "stream",
          "name": "stdout",
          "text": [
            "4/4 [==============================] - 0s 4ms/step - loss: 0.0407 - accuracy: 0.9917\n",
            "[0.040713269263505936, 0.9916666746139526]\n",
            "1/1 [==============================] - 0s 25ms/step - loss: 0.0125 - accuracy: 1.0000\n",
            "[0.012524853460490704, 1.0]\n"
          ]
        }
      ]
    },
    {
      "cell_type": "code",
      "source": [
        "ypred =  mdl.predict(X_test)\n",
        "ypred_label = np.argmax(ypred, axis = 1)\n",
        "ypred_label"
      ],
      "metadata": {
        "colab": {
          "base_uri": "https://localhost:8080/"
        },
        "id": "Zpd8jf6YWKxI",
        "outputId": "06df009e-e09e-4e0d-86d3-79a5d444e1d0"
      },
      "execution_count": null,
      "outputs": [
        {
          "output_type": "stream",
          "name": "stdout",
          "text": [
            "1/1 [==============================] - 0s 79ms/step\n"
          ]
        },
        {
          "output_type": "execute_result",
          "data": {
            "text/plain": [
              "array([1, 0, 2, 1, 1, 0, 1, 2, 1, 1, 2, 0, 0, 0, 0, 1, 2, 1, 1, 2, 0, 2,\n",
              "       0, 2, 2, 2, 2, 2, 0, 0])"
            ]
          },
          "metadata": {},
          "execution_count": 41
        }
      ]
    },
    {
      "cell_type": "code",
      "source": [
        "ypred"
      ],
      "metadata": {
        "colab": {
          "base_uri": "https://localhost:8080/"
        },
        "id": "9coAJHlxWggf",
        "outputId": "29c464f2-62b3-4d94-91cc-f3d4f15f4ba7"
      },
      "execution_count": null,
      "outputs": [
        {
          "output_type": "execute_result",
          "data": {
            "text/plain": [
              "array([[4.2369260e-04, 9.9646050e-01, 3.1157660e-03],\n",
              "       [9.9829364e-01, 1.7063292e-03, 5.3265090e-08],\n",
              "       [4.1922923e-11, 9.6480449e-07, 9.9999899e-01],\n",
              "       [1.3870787e-03, 9.5179677e-01, 4.6816207e-02],\n",
              "       [9.6391836e-05, 9.9437612e-01, 5.5274572e-03],\n",
              "       [9.9802214e-01, 1.9776956e-03, 1.7669286e-07],\n",
              "       [6.8767956e-03, 9.9246383e-01, 6.5933302e-04],\n",
              "       [3.6561999e-06, 1.9658972e-03, 9.9803042e-01],\n",
              "       [2.5190406e-05, 8.9025944e-01, 1.0971538e-01],\n",
              "       [7.1667985e-04, 9.9882442e-01, 4.5883696e-04],\n",
              "       [1.1639367e-04, 2.4126360e-02, 9.7575712e-01],\n",
              "       [9.9962109e-01, 3.7883321e-04, 5.1785044e-08],\n",
              "       [9.9913335e-01, 8.6666038e-04, 3.4653699e-08],\n",
              "       [9.9959224e-01, 4.0763509e-04, 5.2110618e-08],\n",
              "       [9.9987459e-01, 1.2550507e-04, 1.0861568e-08],\n",
              "       [3.2730137e-03, 9.8019487e-01, 1.6532013e-02],\n",
              "       [3.7551951e-07, 1.1707158e-04, 9.9988252e-01],\n",
              "       [2.6727933e-04, 9.9943990e-01, 2.9290296e-04],\n",
              "       [1.1220980e-03, 9.8840773e-01, 1.0470126e-02],\n",
              "       [2.3124909e-07, 1.2799486e-04, 9.9987173e-01],\n",
              "       [9.9980664e-01, 1.9349509e-04, 4.2224329e-08],\n",
              "       [3.9191736e-04, 1.0886122e-01, 8.9074683e-01],\n",
              "       [9.9957240e-01, 4.2757008e-04, 9.2781697e-08],\n",
              "       [4.3268122e-07, 2.5076908e-04, 9.9974871e-01],\n",
              "       [4.3271425e-06, 7.6121450e-03, 9.9238354e-01],\n",
              "       [1.3342011e-06, 5.7081715e-04, 9.9942786e-01],\n",
              "       [1.9644004e-07, 1.8219275e-03, 9.9817789e-01],\n",
              "       [3.3393769e-07, 9.1037233e-05, 9.9990857e-01],\n",
              "       [9.9939835e-01, 6.0156547e-04, 1.3335327e-07],\n",
              "       [9.9957973e-01, 4.2015320e-04, 8.2510390e-08]], dtype=float32)"
            ]
          },
          "metadata": {},
          "execution_count": 37
        }
      ]
    }
  ]
}